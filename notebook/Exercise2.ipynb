{
 "cells": [
  {
   "cell_type": "markdown",
   "metadata": {},
   "source": [
    "# Setup\n",
    "Let’s start by importing the necessary libraries"
   ]
  },
  {
   "cell_type": "code",
   "execution_count": 2,
   "metadata": {},
   "outputs": [],
   "source": [
    "import matplotlib.pyplot as plt\n",
    "import cv2\n",
    "import numpy as np\n",
    "from IPython import display\n",
    "from IPython.display import Image\n",
    "import ipywidgets as widgets\n",
    "import threading\n",
    "import time"
   ]
  },
  {
   "cell_type": "code",
   "execution_count": 3,
   "metadata": {},
   "outputs": [
    {
     "name": "stdout",
     "output_type": "stream",
     "text": [
      "(10, 785)\n"
     ]
    }
   ],
   "source": [
    "W = np.load(\"model.npy\")\n",
    "print(W.shape)"
   ]
  },
  {
   "cell_type": "markdown",
   "metadata": {},
   "source": [
    "# Display the webcam in OpenCV’s own window\n",
    "To start, here’s the standard way of displaying the webcam feed with OpenCV. It will open a separate window."
   ]
  },
  {
   "cell_type": "code",
   "execution_count": 3,
   "metadata": {},
   "outputs": [],
   "source": [
    "# Stop button\n",
    "# ================\n",
    "stopButton = widgets.ToggleButton(\n",
    "    value=False,\n",
    "    description='Stop',\n",
    "    disabled=False,\n",
    "    button_style='danger', # 'success', 'info', 'warning', 'danger' or ''\n",
    "    tooltip='Description',\n",
    "    icon='square' # (FontAwesome names without the `fa-` prefix)\n",
    ")\n",
    "\n",
    "def crop_image(result, image):\n",
    "    assert result == True\n",
    "    # print (result, image.shape)\n",
    "    image_cropped = image[:,int(image.shape[1]/2-image.shape[0]/2) : int(image.shape[1]/2+image.shape[0]/2)]\n",
    "    # print (image_cropped.shape)\n",
    "    return image_cropped\n",
    "\n",
    "def convert_to_mnist(image):\n",
    "    shape = image.shape # need to convert it to 28 x 28 x 255\n",
    "    resized_image = cv2.resize(image, (28, 28)) \n",
    "    gray = cv2.cvtColor(resized_image, cv2.COLOR_BGR2GRAY)\n",
    "    inverted = 255 - gray\n",
    "    # print(gray.shape)\n",
    "    # print (gray)\n",
    "    return inverted.astype(np.float32) / 255.0\n",
    "\n",
    "# Display function\n",
    "# ================\n",
    "def view(button):\n",
    "    cap = cv2.VideoCapture(0)\n",
    "    display_handle=display.display(None, display_id=True)\n",
    "    i = 0\n",
    "\n",
    "    while True:\n",
    "        try:\n",
    "            result, frame = cap.read()\n",
    "            cropped_frame = crop_image(result, frame)\n",
    "            mnist_format = convert_to_mnist(cropped_frame)\n",
    "            frame = cv2.flip(mnist_format, 1) # if your camera reverses your image\n",
    "            _, frame = cv2.imencode('.jpeg', cropped_frame)         #converts (encodes) image formats into streaming data and stores it in-memory cache\n",
    "            display.display(stopButton)\n",
    "            display.display(Image(data=frame.tobytes()))\n",
    "            print(\"label\")\n",
    "            display.clear_output(wait=True)\n",
    "            time.sleep(1.0)\n",
    "            \n",
    "            if stopButton.value==True:\n",
    "                cap.release()\n",
    "                display_handle.update(None)\n",
    "                break\n",
    "        except KeyboardInterrupt:\n",
    "            cap.release()\n",
    "            display_handle.update(None)\n",
    "            break\n",
    "  "
   ]
  },
  {
   "cell_type": "code",
   "execution_count": 4,
   "metadata": {},
   "outputs": [],
   "source": [
    "# Run\n",
    "# ================\n",
    "# display.display(stopButton)\n",
    "thread = threading.Thread(target=view, args=(stopButton,))\n",
    "thread.start()"
   ]
  },
  {
   "cell_type": "markdown",
   "metadata": {},
   "source": [
    "<span style=\"color:SteelBlue\"> Exercise 1</span> : Convert the camera image to the format we used for the model training! It has to have 28x28 pixels, their values need to range from 0 to 255 (the GrayScale convention)\n",
    "- Make sure the white color corresponds to 0 intensity!"
   ]
  },
  {
   "cell_type": "markdown",
   "metadata": {},
   "source": [
    "<span style=\"color:SteelBlue\"> Exercise 2</span> : Save and load your model (the trained matrix W)\n",
    "- use np.save()\n",
    "- use np.load()"
   ]
  },
  {
   "cell_type": "markdown",
   "metadata": {},
   "source": [
    "<span style=\"color:SteelBlue\"> Exercise 3</span> : Apply your model (the trained matrix W) to the camera image!"
   ]
  }
 ],
 "metadata": {
  "kernelspec": {
   "display_name": "Python 3",
   "language": "python",
   "name": "python3"
  },
  "language_info": {
   "codemirror_mode": {
    "name": "ipython",
    "version": 3
   },
   "file_extension": ".py",
   "mimetype": "text/x-python",
   "name": "python",
   "nbconvert_exporter": "python",
   "pygments_lexer": "ipython3",
   "version": "3.9.15"
  },
  "orig_nbformat": 4
 },
 "nbformat": 4,
 "nbformat_minor": 2
}
