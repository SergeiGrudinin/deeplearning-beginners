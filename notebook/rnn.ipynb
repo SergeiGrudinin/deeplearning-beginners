{
  "nbformat": 4,
  "nbformat_minor": 0,
  "metadata": {
    "colab": {
      "name": "rnn.ipynb のコピー",
      "provenance": [],
      "collapsed_sections": [],
      "include_colab_link": true
    },
    "kernelspec": {
      "name": "python3",
      "display_name": "Python 3"
    },
    "accelerator": "GPU"
  },
  "cells": [
    {
      "cell_type": "markdown",
      "metadata": {
        "id": "view-in-github",
        "colab_type": "text"
      },
      "source": [
        "<a href=\"https://colab.research.google.com/github/chokkan/deeplearning/blob/master/notebook/rnn.ipynb\" target=\"_parent\"><img src=\"https://colab.research.google.com/assets/colab-badge.svg\" alt=\"Open In Colab\"/></a>"
      ]
    },
    {
      "cell_type": "markdown",
      "metadata": {
        "id": "TyBCNAqvSZwP",
        "colab_type": "text"
      },
      "source": [
        "# Deep Neural Networks for structual input\n",
        "\n"
      ]
    },
    {
      "cell_type": "markdown",
      "metadata": {
        "id": "6E6o7ZDziS_j",
        "colab_type": "text"
      },
      "source": [
        "## Download the dataset"
      ]
    },
    {
      "cell_type": "code",
      "metadata": {
        "id": "bg5UQ01liJho",
        "colab_type": "code",
        "colab": {
          "base_uri": "https://localhost:8080/",
          "height": 210
        },
        "outputId": "3da2c43f-1e56-4291-dd56-5fa6520e10bb"
      },
      "source": [
        "!wget https://download.pytorch.org/tutorial/data.zip"
      ],
      "execution_count": 1,
      "outputs": [
        {
          "output_type": "stream",
          "text": [
            "--2020-07-15 15:24:24--  https://download.pytorch.org/tutorial/data.zip\n",
            "Resolving download.pytorch.org (download.pytorch.org)... 13.227.223.15, 13.227.223.75, 13.227.223.82, ...\n",
            "Connecting to download.pytorch.org (download.pytorch.org)|13.227.223.15|:443... connected.\n",
            "HTTP request sent, awaiting response... 200 OK\n",
            "Length: 2882130 (2.7M) [application/zip]\n",
            "Saving to: ‘data.zip’\n",
            "\n",
            "\rdata.zip              0%[                    ]       0  --.-KB/s               \rdata.zip            100%[===================>]   2.75M  --.-KB/s    in 0.03s   \n",
            "\n",
            "2020-07-15 15:24:24 (85.2 MB/s) - ‘data.zip’ saved [2882130/2882130]\n",
            "\n"
          ],
          "name": "stdout"
        }
      ]
    },
    {
      "cell_type": "code",
      "metadata": {
        "id": "oF0dnFI8iPPR",
        "colab_type": "code",
        "colab": {
          "base_uri": "https://localhost:8080/",
          "height": 404
        },
        "outputId": "04de5854-2408-4069-8e4d-23047fe10aa2"
      },
      "source": [
        "!unzip data.zip"
      ],
      "execution_count": 2,
      "outputs": [
        {
          "output_type": "stream",
          "text": [
            "Archive:  data.zip\n",
            "   creating: data/\n",
            "  inflating: data/eng-fra.txt        \n",
            "   creating: data/names/\n",
            "  inflating: data/names/Arabic.txt   \n",
            "  inflating: data/names/Chinese.txt  \n",
            "  inflating: data/names/Czech.txt    \n",
            "  inflating: data/names/Dutch.txt    \n",
            "  inflating: data/names/English.txt  \n",
            "  inflating: data/names/French.txt   \n",
            "  inflating: data/names/German.txt   \n",
            "  inflating: data/names/Greek.txt    \n",
            "  inflating: data/names/Irish.txt    \n",
            "  inflating: data/names/Italian.txt  \n",
            "  inflating: data/names/Japanese.txt  \n",
            "  inflating: data/names/Korean.txt   \n",
            "  inflating: data/names/Polish.txt   \n",
            "  inflating: data/names/Portuguese.txt  \n",
            "  inflating: data/names/Russian.txt  \n",
            "  inflating: data/names/Scottish.txt  \n",
            "  inflating: data/names/Spanish.txt  \n",
            "  inflating: data/names/Vietnamese.txt  \n"
          ],
          "name": "stdout"
        }
      ]
    },
    {
      "cell_type": "code",
      "metadata": {
        "id": "kldNto0NLyOb",
        "colab_type": "code",
        "colab": {
          "base_uri": "https://localhost:8080/",
          "height": 193
        },
        "outputId": "b230751b-354d-4405-9f9b-d81ceacca9e5"
      },
      "source": [
        "!head -n10 data/names/Russian.txt"
      ],
      "execution_count": 3,
      "outputs": [
        {
          "output_type": "stream",
          "text": [
            "Ababko\n",
            "Abaev\n",
            "Abagyan\n",
            "Abaidulin\n",
            "Abaidullin\n",
            "Abaimoff\n",
            "Abaimov\n",
            "Abakeliya\n",
            "Abakovsky\n",
            "Abakshin\n"
          ],
          "name": "stdout"
        }
      ]
    },
    {
      "cell_type": "markdown",
      "metadata": {
        "id": "54p-dWwRiWmK",
        "colab_type": "text"
      },
      "source": [
        "## Normalize name spellings in the dataset"
      ]
    },
    {
      "cell_type": "code",
      "metadata": {
        "id": "J6sFMmTmiT3T",
        "colab_type": "code",
        "colab": {}
      },
      "source": [
        "import string\n",
        "import unicodedata\n",
        "\n",
        "# Alphabet [a-zA-Z .,;']\n",
        "alphabet = set(string.ascii_letters + \" .,;'\")\n",
        "\n",
        "def normalize(s):\n",
        "    # Apply canonical decomposition, and ignore non-alphabet symbols.\n",
        "    return ''.join(\n",
        "        c for c in unicodedata.normalize('NFD', s) if c in alphabet\n",
        "        )"
      ],
      "execution_count": 4,
      "outputs": []
    },
    {
      "cell_type": "code",
      "metadata": {
        "id": "k_r6o4qMjzqu",
        "colab_type": "code",
        "colab": {
          "base_uri": "https://localhost:8080/",
          "height": 35
        },
        "outputId": "1c7efe45-ef69-492c-aa62-4a20cedee7cf"
      },
      "source": [
        "normalize('Ślusàrski')"
      ],
      "execution_count": 5,
      "outputs": [
        {
          "output_type": "execute_result",
          "data": {
            "application/vnd.google.colaboratory.intrinsic": {
              "type": "string"
            },
            "text/plain": [
              "'Slusarski'"
            ]
          },
          "metadata": {
            "tags": []
          },
          "execution_count": 5
        }
      ]
    },
    {
      "cell_type": "code",
      "metadata": {
        "id": "KermR0rckh9z",
        "colab_type": "code",
        "colab": {}
      },
      "source": [
        "import glob\n",
        "import json\n",
        "import os\n",
        "\n",
        "data = []\n",
        "srcs = glob.glob('data/names/*.txt')\n",
        "for src in srcs:\n",
        "    lang = os.path.basename(src)[:-4]\n",
        "    for line in open(src):\n",
        "        line = line.strip('\\n')\n",
        "        data.append((normalize(line), lang))\n",
        "    \n",
        "with open('names.json', 'w') as fo:\n",
        "    json.dump(data, fo, indent=2)"
      ],
      "execution_count": 6,
      "outputs": []
    },
    {
      "cell_type": "code",
      "metadata": {
        "id": "QqV80P8VMY9E",
        "colab_type": "code",
        "colab": {
          "base_uri": "https://localhost:8080/",
          "height": 193
        },
        "outputId": "15c38337-f058-4207-cca1-9b753c6da61d"
      },
      "source": [
        "!head -n10 names.json"
      ],
      "execution_count": 7,
      "outputs": [
        {
          "output_type": "stream",
          "text": [
            "[\n",
            "  [\n",
            "    \"Abana\",\n",
            "    \"Spanish\"\n",
            "  ],\n",
            "  [\n",
            "    \"Abano\",\n",
            "    \"Spanish\"\n",
            "  ],\n",
            "  [\n"
          ],
          "name": "stdout"
        }
      ]
    },
    {
      "cell_type": "markdown",
      "metadata": {
        "id": "8EkNRs9fS4Mx",
        "colab_type": "text"
      },
      "source": [
        "## Convert the string data into numerical data"
      ]
    },
    {
      "cell_type": "code",
      "metadata": {
        "id": "MKWUzGxur0r6",
        "colab_type": "code",
        "colab": {
          "base_uri": "https://localhost:8080/",
          "height": 72
        },
        "outputId": "85dd1b27-cc5e-4a38-d1f7-97e0012dea58"
      },
      "source": [
        "def find_vocabulary(data):\n",
        "    X, Y = set(), set()    \n",
        "    for (x, y) in data:\n",
        "        X.update(c for c in x)\n",
        "        Y.add(y)\n",
        "    return sorted(X), sorted(Y)\n",
        "\n",
        "def build_mapping(items):\n",
        "    M = {}\n",
        "    for item in items:\n",
        "        M.setdefault(item, len(M))\n",
        "    return M\n",
        "\n",
        "def convert_to_numeric_data(data, Xmap, Ymap):\n",
        "    D = []\n",
        "    for (x, y) in data:\n",
        "        D.append(([Xmap[c] for c in x], Ymap[y]))\n",
        "    return D    \n",
        "\n",
        "import json\n",
        "data = json.load(open('names.json'))\n",
        "\n",
        "X, Y = find_vocabulary(data)\n",
        "print(X)\n",
        "print(Y)\n",
        "Xmap = build_mapping(X)\n",
        "Ymap = build_mapping(Y)\n",
        "\n",
        "with open('names.data.json', 'w') as fo:\n",
        "    json.dump(dict(\n",
        "        data = convert_to_numeric_data(data, Xmap, Ymap),\n",
        "        X = X,\n",
        "        Y = Y,\n",
        "        ), fo, indent=2)"
      ],
      "execution_count": 8,
      "outputs": [
        {
          "output_type": "stream",
          "text": [
            "[' ', \"'\", ',', 'A', 'B', 'C', 'D', 'E', 'F', 'G', 'H', 'I', 'J', 'K', 'L', 'M', 'N', 'O', 'P', 'Q', 'R', 'S', 'T', 'U', 'V', 'W', 'X', 'Y', 'Z', 'a', 'b', 'c', 'd', 'e', 'f', 'g', 'h', 'i', 'j', 'k', 'l', 'm', 'n', 'o', 'p', 'q', 'r', 's', 't', 'u', 'v', 'w', 'x', 'y', 'z']\n",
            "['Arabic', 'Chinese', 'Czech', 'Dutch', 'English', 'French', 'German', 'Greek', 'Irish', 'Italian', 'Japanese', 'Korean', 'Polish', 'Portuguese', 'Russian', 'Scottish', 'Spanish', 'Vietnamese']\n"
          ],
          "name": "stdout"
        }
      ]
    },
    {
      "cell_type": "code",
      "metadata": {
        "id": "4LfbrFR2Mzlk",
        "colab_type": "code",
        "colab": {
          "base_uri": "https://localhost:8080/",
          "height": 369
        },
        "outputId": "da962eaa-8d6f-4642-b9b9-297c1b01ae92"
      },
      "source": [
        "!head -n20 names.data.json"
      ],
      "execution_count": 9,
      "outputs": [
        {
          "output_type": "stream",
          "text": [
            "{\n",
            "  \"data\": [\n",
            "    [\n",
            "      [\n",
            "        3,\n",
            "        30,\n",
            "        29,\n",
            "        42,\n",
            "        29\n",
            "      ],\n",
            "      16\n",
            "    ],\n",
            "    [\n",
            "      [\n",
            "        3,\n",
            "        30,\n",
            "        29,\n",
            "        42,\n",
            "        43\n",
            "      ],\n"
          ],
          "name": "stdout"
        }
      ]
    },
    {
      "cell_type": "code",
      "metadata": {
        "id": "zEhOTdqSaoQD",
        "colab_type": "code",
        "colab": {}
      },
      "source": [
        "data = json.load(open('names.data.json'))"
      ],
      "execution_count": 10,
      "outputs": []
    },
    {
      "cell_type": "code",
      "metadata": {
        "id": "gt9pwWYoa00b",
        "colab_type": "code",
        "colab": {
          "base_uri": "https://localhost:8080/",
          "height": 985
        },
        "outputId": "99a7034d-dee8-43a5-ca1e-d34b4cf34eea"
      },
      "source": [
        "data['X']"
      ],
      "execution_count": 11,
      "outputs": [
        {
          "output_type": "execute_result",
          "data": {
            "text/plain": [
              "[' ',\n",
              " \"'\",\n",
              " ',',\n",
              " 'A',\n",
              " 'B',\n",
              " 'C',\n",
              " 'D',\n",
              " 'E',\n",
              " 'F',\n",
              " 'G',\n",
              " 'H',\n",
              " 'I',\n",
              " 'J',\n",
              " 'K',\n",
              " 'L',\n",
              " 'M',\n",
              " 'N',\n",
              " 'O',\n",
              " 'P',\n",
              " 'Q',\n",
              " 'R',\n",
              " 'S',\n",
              " 'T',\n",
              " 'U',\n",
              " 'V',\n",
              " 'W',\n",
              " 'X',\n",
              " 'Y',\n",
              " 'Z',\n",
              " 'a',\n",
              " 'b',\n",
              " 'c',\n",
              " 'd',\n",
              " 'e',\n",
              " 'f',\n",
              " 'g',\n",
              " 'h',\n",
              " 'i',\n",
              " 'j',\n",
              " 'k',\n",
              " 'l',\n",
              " 'm',\n",
              " 'n',\n",
              " 'o',\n",
              " 'p',\n",
              " 'q',\n",
              " 'r',\n",
              " 's',\n",
              " 't',\n",
              " 'u',\n",
              " 'v',\n",
              " 'w',\n",
              " 'x',\n",
              " 'y',\n",
              " 'z']"
            ]
          },
          "metadata": {
            "tags": []
          },
          "execution_count": 11
        }
      ]
    },
    {
      "cell_type": "code",
      "metadata": {
        "id": "F-hP7UBpbCoE",
        "colab_type": "code",
        "colab": {
          "base_uri": "https://localhost:8080/",
          "height": 334
        },
        "outputId": "e6307ec1-b502-4830-c244-d615afea0f07"
      },
      "source": [
        "data['Y']"
      ],
      "execution_count": 12,
      "outputs": [
        {
          "output_type": "execute_result",
          "data": {
            "text/plain": [
              "['Arabic',\n",
              " 'Chinese',\n",
              " 'Czech',\n",
              " 'Dutch',\n",
              " 'English',\n",
              " 'French',\n",
              " 'German',\n",
              " 'Greek',\n",
              " 'Irish',\n",
              " 'Italian',\n",
              " 'Japanese',\n",
              " 'Korean',\n",
              " 'Polish',\n",
              " 'Portuguese',\n",
              " 'Russian',\n",
              " 'Scottish',\n",
              " 'Spanish',\n",
              " 'Vietnamese']"
            ]
          },
          "metadata": {
            "tags": []
          },
          "execution_count": 12
        }
      ]
    },
    {
      "cell_type": "code",
      "metadata": {
        "id": "g8tOwBy7bEtv",
        "colab_type": "code",
        "colab": {
          "base_uri": "https://localhost:8080/",
          "height": 34
        },
        "outputId": "39062bb0-a5fb-49d8-8a25-69fdf1be6151"
      },
      "source": [
        "data['data'][0]"
      ],
      "execution_count": 13,
      "outputs": [
        {
          "output_type": "execute_result",
          "data": {
            "text/plain": [
              "[[3, 30, 29, 42, 29], 16]"
            ]
          },
          "metadata": {
            "tags": []
          },
          "execution_count": 13
        }
      ]
    },
    {
      "cell_type": "code",
      "metadata": {
        "id": "LyGQaBVebIsJ",
        "colab_type": "code",
        "colab": {
          "base_uri": "https://localhost:8080/",
          "height": 35
        },
        "outputId": "fa79a406-57c4-4e5c-9423-2417df482808"
      },
      "source": [
        "''.join(data['X'][i] for i in data['data'][100][0])"
      ],
      "execution_count": 14,
      "outputs": [
        {
          "output_type": "execute_result",
          "data": {
            "application/vnd.google.colaboratory.intrinsic": {
              "type": "string"
            },
            "text/plain": [
              "'Espinosa'"
            ]
          },
          "metadata": {
            "tags": []
          },
          "execution_count": 14
        }
      ]
    },
    {
      "cell_type": "code",
      "metadata": {
        "id": "eOwfhhkfbQ3k",
        "colab_type": "code",
        "colab": {
          "base_uri": "https://localhost:8080/",
          "height": 34
        },
        "outputId": "7610cb97-3d70-4f7e-a04f-2ee22c329253"
      },
      "source": [
        "data['data'][100][1]"
      ],
      "execution_count": 15,
      "outputs": [
        {
          "output_type": "execute_result",
          "data": {
            "text/plain": [
              "16"
            ]
          },
          "metadata": {
            "tags": []
          },
          "execution_count": 15
        }
      ]
    },
    {
      "cell_type": "code",
      "metadata": {
        "id": "dDfzg9VDbZU9",
        "colab_type": "code",
        "colab": {
          "base_uri": "https://localhost:8080/",
          "height": 35
        },
        "outputId": "59968bf4-e395-42f2-ba71-660d7efff057"
      },
      "source": [
        "data['Y'][data['data'][100][1]]"
      ],
      "execution_count": 16,
      "outputs": [
        {
          "output_type": "execute_result",
          "data": {
            "application/vnd.google.colaboratory.intrinsic": {
              "type": "string"
            },
            "text/plain": [
              "'Spanish'"
            ]
          },
          "metadata": {
            "tags": []
          },
          "execution_count": 16
        }
      ]
    },
    {
      "cell_type": "markdown",
      "metadata": {
        "id": "gxw3GLjPij3r",
        "colab_type": "text"
      },
      "source": [
        "## Install necessary modules"
      ]
    },
    {
      "cell_type": "code",
      "metadata": {
        "id": "kBWM_sOberqG",
        "colab_type": "code",
        "colab": {
          "base_uri": "https://localhost:8080/",
          "height": 492
        },
        "outputId": "763367d5-9227-4478-c450-f60ff908150a"
      },
      "source": [
        "!pip install livelossplot"
      ],
      "execution_count": 17,
      "outputs": [
        {
          "output_type": "stream",
          "text": [
            "Requirement already satisfied: livelossplot in /usr/local/lib/python3.6/dist-packages (0.5.1)\n",
            "Requirement already satisfied: bokeh; python_version >= \"3.6\" in /usr/local/lib/python3.6/dist-packages (from livelossplot) (1.4.0)\n",
            "Requirement already satisfied: matplotlib; python_version >= \"3.6\" in /usr/local/lib/python3.6/dist-packages (from livelossplot) (3.2.2)\n",
            "Requirement already satisfied: ipython in /usr/local/lib/python3.6/dist-packages (from livelossplot) (5.5.0)\n",
            "Requirement already satisfied: pillow>=4.0 in /usr/local/lib/python3.6/dist-packages (from bokeh; python_version >= \"3.6\"->livelossplot) (7.0.0)\n",
            "Requirement already satisfied: Jinja2>=2.7 in /usr/local/lib/python3.6/dist-packages (from bokeh; python_version >= \"3.6\"->livelossplot) (2.11.2)\n",
            "Requirement already satisfied: numpy>=1.7.1 in /usr/local/lib/python3.6/dist-packages (from bokeh; python_version >= \"3.6\"->livelossplot) (1.18.5)\n",
            "Requirement already satisfied: PyYAML>=3.10 in /usr/local/lib/python3.6/dist-packages (from bokeh; python_version >= \"3.6\"->livelossplot) (3.13)\n",
            "Requirement already satisfied: python-dateutil>=2.1 in /usr/local/lib/python3.6/dist-packages (from bokeh; python_version >= \"3.6\"->livelossplot) (2.8.1)\n",
            "Requirement already satisfied: six>=1.5.2 in /usr/local/lib/python3.6/dist-packages (from bokeh; python_version >= \"3.6\"->livelossplot) (1.12.0)\n",
            "Requirement already satisfied: packaging>=16.8 in /usr/local/lib/python3.6/dist-packages (from bokeh; python_version >= \"3.6\"->livelossplot) (20.4)\n",
            "Requirement already satisfied: tornado>=4.3 in /usr/local/lib/python3.6/dist-packages (from bokeh; python_version >= \"3.6\"->livelossplot) (4.5.3)\n",
            "Requirement already satisfied: pyparsing!=2.0.4,!=2.1.2,!=2.1.6,>=2.0.1 in /usr/local/lib/python3.6/dist-packages (from matplotlib; python_version >= \"3.6\"->livelossplot) (2.4.7)\n",
            "Requirement already satisfied: kiwisolver>=1.0.1 in /usr/local/lib/python3.6/dist-packages (from matplotlib; python_version >= \"3.6\"->livelossplot) (1.2.0)\n",
            "Requirement already satisfied: cycler>=0.10 in /usr/local/lib/python3.6/dist-packages (from matplotlib; python_version >= \"3.6\"->livelossplot) (0.10.0)\n",
            "Requirement already satisfied: prompt-toolkit<2.0.0,>=1.0.4 in /usr/local/lib/python3.6/dist-packages (from ipython->livelossplot) (1.0.18)\n",
            "Requirement already satisfied: pexpect; sys_platform != \"win32\" in /usr/local/lib/python3.6/dist-packages (from ipython->livelossplot) (4.8.0)\n",
            "Requirement already satisfied: traitlets>=4.2 in /usr/local/lib/python3.6/dist-packages (from ipython->livelossplot) (4.3.3)\n",
            "Requirement already satisfied: decorator in /usr/local/lib/python3.6/dist-packages (from ipython->livelossplot) (4.4.2)\n",
            "Requirement already satisfied: pickleshare in /usr/local/lib/python3.6/dist-packages (from ipython->livelossplot) (0.7.5)\n",
            "Requirement already satisfied: setuptools>=18.5 in /usr/local/lib/python3.6/dist-packages (from ipython->livelossplot) (49.1.0)\n",
            "Requirement already satisfied: simplegeneric>0.8 in /usr/local/lib/python3.6/dist-packages (from ipython->livelossplot) (0.8.1)\n",
            "Requirement already satisfied: pygments in /usr/local/lib/python3.6/dist-packages (from ipython->livelossplot) (2.1.3)\n",
            "Requirement already satisfied: MarkupSafe>=0.23 in /usr/local/lib/python3.6/dist-packages (from Jinja2>=2.7->bokeh; python_version >= \"3.6\"->livelossplot) (1.1.1)\n",
            "Requirement already satisfied: wcwidth in /usr/local/lib/python3.6/dist-packages (from prompt-toolkit<2.0.0,>=1.0.4->ipython->livelossplot) (0.2.5)\n",
            "Requirement already satisfied: ptyprocess>=0.5 in /usr/local/lib/python3.6/dist-packages (from pexpect; sys_platform != \"win32\"->ipython->livelossplot) (0.6.0)\n",
            "Requirement already satisfied: ipython-genutils in /usr/local/lib/python3.6/dist-packages (from traitlets>=4.2->ipython->livelossplot) (0.2.0)\n"
          ],
          "name": "stdout"
        }
      ]
    },
    {
      "cell_type": "markdown",
      "metadata": {
        "id": "6fFunGh9iqLr",
        "colab_type": "text"
      },
      "source": [
        "## Implementing RNN cells (states)"
      ]
    },
    {
      "cell_type": "code",
      "metadata": {
        "id": "qbK8gUYgTSdu",
        "colab_type": "code",
        "colab": {
          "base_uri": "https://localhost:8080/",
          "height": 414
        },
        "outputId": "6114cb0d-f795-4905-8dc2-8ec1622b3b4b"
      },
      "source": [
        "import json\n",
        "import random\n",
        "import torch\n",
        "import torch.nn as nn\n",
        "import torch.optim as optim\n",
        "from livelossplot import PlotLosses\n",
        "\n",
        "class RNNCell(nn.Module):\n",
        "    def __init__(self, input_size, hidden_size, output_size):\n",
        "        super(RNNCell, self).__init__()\n",
        "        \n",
        "        self.hidden_size = hidden_size\n",
        "        self.f = nn.Tanh()\n",
        "        self.hi = nn.Linear(input_size + hidden_size, hidden_size)\n",
        "        self.oh = nn.Linear(hidden_size, output_size)\n",
        "    \n",
        "    def forward(self, input, hidden):\n",
        "        new_hidden = self.f(self.hi(torch.cat((input, hidden), 0)))\n",
        "        new_output = self.oh(new_hidden)\n",
        "        return new_output, new_hidden\n",
        "    \n",
        "    def initHidden(self):\n",
        "        return torch.zeros(self.hidden_size)\n",
        "    \n",
        "def x_to_tensor(x, input_size):\n",
        "    tensor = torch.zeros(len(x), input_size, dtype=torch.float)\n",
        "    for i, j in enumerate(x):\n",
        "        tensor[i][j] = 1\n",
        "    return tensor\n",
        "\n",
        "def y_to_tensor(y):\n",
        "    tensor = torch.zeros(1, dtype=torch.long)\n",
        "    tensor[0] = y\n",
        "    return tensor\n",
        "\n",
        "data = json.load(open('names.data.json'))\n",
        "dataset = data['data']\n",
        "input_size = len(data['X'])\n",
        "output_size = len(data['Y'])\n",
        "\n",
        "model = RNNCell(input_size, 128, output_size)\n",
        "\n",
        "loss_fn = nn.CrossEntropyLoss()\n",
        "optimizer = optim.SGD(model.parameters(), lr=0.001)\n",
        "\n",
        "liveloss = PlotLosses()\n",
        "for t in range(10):\n",
        "    train_loss = 0.\n",
        "    num_train_correct = 0\n",
        "    random.shuffle(dataset)\n",
        "    \n",
        "    # Training loop for every instance.\n",
        "    for (x, y) in dataset:\n",
        "        # Convert a training instance into tensors in place.\n",
        "        x = x_to_tensor(x, input_size)\n",
        "        y = y_to_tensor(y)\n",
        "        \n",
        "        # Recurrent Neural Network\n",
        "        hidden = model.initHidden()\n",
        "        for xt in x:\n",
        "            output, hidden = model(xt, hidden)\n",
        "                \n",
        "        # Make predictions with the current parameters.\n",
        "        y_pred = output.view(1, -1)  # Reshape the output: (18) -> (1, 18)\n",
        "        _, predicted = torch.max(y_pred.data, 1)\n",
        "        num_train_correct += (predicted == y).sum().item()\n",
        "        \n",
        "        # Compute the loss value.\n",
        "        loss = loss_fn(y_pred, y)\n",
        "        train_loss += loss.item()\n",
        "        \n",
        "        # Update the parameters.\n",
        "        optimizer.zero_grad()\n",
        "        loss.backward()\n",
        "        optimizer.step()\n",
        "                \n",
        "    # Visualize accuracy values on the training set.\n",
        "    num_train_correct /= float(len(dataset))\n",
        "    liveloss.update({\n",
        "        'log loss': train_loss,\n",
        "        'accuracy': num_train_correct,\n",
        "    })\n",
        "    liveloss.draw()\n",
        "    \n",
        "print('Accuracy: {:.4f} (train)'.format(num_train_correct))"
      ],
      "execution_count": 18,
      "outputs": [
        {
          "output_type": "display_data",
          "data": {
            "image/png": "[encoded data removed]",
            "text/plain": [
              "<Figure size 864x576 with 2 Axes>"
            ]
          },
          "metadata": {
            "tags": [],
            "needs_background": "light"
          }
        },
        {
          "output_type": "stream",
          "text": [
            "accuracy\n",
            "\taccuracy         \t (min:    0.493, max:    0.743, cur:    0.743)\n",
            "log loss\n",
            "\tlog loss         \t (min: 17376.371, max: 34125.248, cur: 17376.371)\n",
            "Accuracy: 0.7434 (train)\n"
          ],
          "name": "stdout"
        }
      ]
    },
    {
      "cell_type": "markdown",
      "metadata": {
        "id": "WLXaWa32i3ey",
        "colab_type": "text"
      },
      "source": [
        "## Using `nn.RNN` module"
      ]
    },
    {
      "cell_type": "code",
      "metadata": {
        "id": "uGphMMS-3fCj",
        "colab_type": "code",
        "colab": {
          "base_uri": "https://localhost:8080/",
          "height": 414
        },
        "outputId": "c934cf4e-5fb9-4ad1-e75d-40341c05ec77"
      },
      "source": [
        "import json\n",
        "import random\n",
        "import torch\n",
        "import torch.nn as nn\n",
        "import torch.optim as optim\n",
        "from livelossplot import PlotLosses\n",
        "\n",
        "class SequenceRNN(nn.Module):\n",
        "    def __init__(self, input_size, hidden_size, output_size):\n",
        "        super(SequenceRNN, self).__init__()\n",
        "        \n",
        "        self.hidden_size = hidden_size\n",
        "        self.rnn = nn.RNN(input_size, hidden_size, num_layers=1)\n",
        "        self.fc = nn.Linear(hidden_size, output_size)\n",
        "    \n",
        "    def forward(self, input, hidden):\n",
        "        output, hidden = self.rnn(input, hidden)\n",
        "        output = self.fc(output[-1])\n",
        "        return output\n",
        "    \n",
        "    def initHidden(self):\n",
        "        return torch.zeros(1, 1, self.hidden_size)\n",
        "    \n",
        "def x_to_tensor(x, input_size):\n",
        "    tensor = torch.zeros(len(x), 1, input_size, dtype=torch.float)\n",
        "    for i, j in enumerate(x):\n",
        "        tensor[i][0][j] = 1   # (T, batch, input_dim)\n",
        "    return tensor\n",
        "\n",
        "def y_to_tensor(y):\n",
        "    tensor = torch.zeros(1, dtype=torch.long)\n",
        "    tensor[0] = y\n",
        "    return tensor\n",
        "\n",
        "data = json.load(open('names.data.json'))\n",
        "dataset = data['data']\n",
        "input_size = len(data['X'])\n",
        "output_size = len(data['Y'])\n",
        "\n",
        "model = SequenceRNN(input_size, 128, output_size)\n",
        "\n",
        "loss_fn = nn.CrossEntropyLoss()\n",
        "optimizer = optim.SGD(model.parameters(), lr=0.001)\n",
        "\n",
        "liveloss = PlotLosses()\n",
        "for t in range(10):\n",
        "    train_loss = 0.\n",
        "    num_train_correct = 0\n",
        "    random.shuffle(dataset)\n",
        "    \n",
        "    # Training loop for every instance.\n",
        "    for (x, y) in dataset:\n",
        "        # Convert a training instance into tensors in place.\n",
        "        x = x_to_tensor(x, input_size)\n",
        "        y = y_to_tensor(y)\n",
        "        \n",
        "        # Make predictions with the current parameters.\n",
        "        y_pred = model(x, model.initHidden())\n",
        "        _, predicted = torch.max(y_pred.data, 1)\n",
        "        num_train_correct += (predicted == y).sum().item()\n",
        "        \n",
        "        # Compute the loss value.\n",
        "        loss = loss_fn(y_pred, y)\n",
        "        train_loss += loss.item()\n",
        "        \n",
        "        # Update the parameters.\n",
        "        optimizer.zero_grad()\n",
        "        loss.backward()\n",
        "        optimizer.step()\n",
        "        \n",
        "    # Visualize accuracy values on the training set.\n",
        "    num_train_correct /= float(len(dataset))\n",
        "    liveloss.update({\n",
        "        'log loss': train_loss,\n",
        "        'accuracy': num_train_correct,\n",
        "    })\n",
        "    liveloss.draw()\n",
        "    \n",
        "print('Accuracy: {:.4f} (train)'.format(num_train_correct))"
      ],
      "execution_count": 19,
      "outputs": [
        {
          "output_type": "display_data",
          "data": {
            "image/png": "[encoded data removed]",
            "text/plain": [
              "<Figure size 864x576 with 2 Axes>"
            ]
          },
          "metadata": {
            "tags": [],
            "needs_background": "light"
          }
        },
        {
          "output_type": "stream",
          "text": [
            "accuracy\n",
            "\taccuracy         \t (min:    0.507, max:    0.749, cur:    0.749)\n",
            "log loss\n",
            "\tlog loss         \t (min: 16986.062, max: 33556.280, cur: 16986.062)\n",
            "Accuracy: 0.7487 (train)\n"
          ],
          "name": "stdout"
        }
      ]
    },
    {
      "cell_type": "markdown",
      "metadata": {
        "id": "vOqEUuTqjGtM",
        "colab_type": "text"
      },
      "source": [
        "### Predict a nationality of a name by using the trained model"
      ]
    },
    {
      "cell_type": "code",
      "metadata": {
        "id": "Xi_phdhW43nc",
        "colab_type": "code",
        "colab": {}
      },
      "source": [
        "def predict(name):\n",
        "    x = []\n",
        "    for c in name:\n",
        "        x.append(data['X'].index(c))\n",
        "    x = x_to_tensor(x, len(data['X']))\n",
        "    hidden = model.initHidden()\n",
        "    y_pred = nn.Softmax(dim=-1)(model(x, hidden))\n",
        "   \n",
        "    scores = []\n",
        "    for index, lang in enumerate(data['Y']):\n",
        "        scores.append((lang, float(y_pred[0][index])))\n",
        "        \n",
        "    return sorted(scores, key=lambda x: x[1], reverse=True)"
      ],
      "execution_count": 20,
      "outputs": []
    },
    {
      "cell_type": "code",
      "metadata": {
        "id": "D9HJOcC4-Jwz",
        "colab_type": "code",
        "colab": {
          "base_uri": "https://localhost:8080/",
          "height": 334
        },
        "outputId": "8934d2ee-70f6-4702-df49-02c48c1e8898"
      },
      "source": [
        "predict('Sato')"
      ],
      "execution_count": 21,
      "outputs": [
        {
          "output_type": "execute_result",
          "data": {
            "text/plain": [
              "[('Japanese', 0.6929662823677063),\n",
              " ('Italian', 0.0777701660990715),\n",
              " ('Chinese', 0.05028809234499931),\n",
              " ('Korean', 0.024616673588752747),\n",
              " ('Vietnamese', 0.02416541613638401),\n",
              " ('German', 0.022809140384197235),\n",
              " ('Russian', 0.015709877014160156),\n",
              " ('Spanish', 0.01496911607682705),\n",
              " ('Irish', 0.013502505607903004),\n",
              " ('Czech', 0.010937624610960484),\n",
              " ('English', 0.010854950174689293),\n",
              " ('Dutch', 0.009302856400609016),\n",
              " ('Portuguese', 0.008285198360681534),\n",
              " ('Polish', 0.006108949892222881),\n",
              " ('Scottish', 0.0060310279950499535),\n",
              " ('Arabic', 0.00596021069213748),\n",
              " ('French', 0.005191550124436617),\n",
              " ('Greek', 0.0005303696962073445)]"
            ]
          },
          "metadata": {
            "tags": []
          },
          "execution_count": 21
        }
      ]
    },
    {
      "cell_type": "code",
      "metadata": {
        "id": "aqA6VAZ9EwUQ",
        "colab_type": "code",
        "colab": {
          "base_uri": "https://localhost:8080/",
          "height": 414
        },
        "outputId": "339e4c7c-dc7a-4bd8-9f50-d47a9cdcb74f"
      },
      "source": [
        "import json\n",
        "import random\n",
        "import torch\n",
        "import torch.nn as nn\n",
        "import torch.optim as optim\n",
        "from torch.utils.data import TensorDataset, DataLoader\n",
        "from livelossplot import PlotLosses\n",
        "\n",
        "class MinibatchSequenceRNN(nn.Module):\n",
        "    def __init__(self, input_size, hidden_size, output_size):\n",
        "        super(MinibatchSequenceRNN, self).__init__()\n",
        "        \n",
        "        self.hidden_size = hidden_size\n",
        "        self.rnn = nn.RNN(input_size, hidden_size, batch_first=True)\n",
        "        self.fc = nn.Linear(hidden_size, output_size)\n",
        "\n",
        "    def last_timestep(self, unpacked, lengths):\n",
        "        idx = (lengths-1).view(-1, 1).expand(\n",
        "            unpacked.size(0), unpacked.size(2)).unsqueeze(1)\n",
        "        return unpacked.gather(1, idx).squeeze()\n",
        "    \n",
        "    def forward(self, input, hidden, l):\n",
        "        input = nn.utils.rnn.pack_padded_sequence(input, l, batch_first=True)\n",
        "        output, hidden = self.rnn(input, hidden)\n",
        "        output, _ = nn.utils.rnn.pad_packed_sequence(output, batch_first=True)\n",
        "        output = self.last_timestep(output, l)\n",
        "        output = self.fc(output)\n",
        "        return output\n",
        "    \n",
        "    def initHidden(self, batch_size=1):\n",
        "        return torch.zeros(1, batch_size, self.hidden_size)\n",
        "    \n",
        "def create_dataset(data, X, Y):\n",
        "    # Sort the data by sequence length (long to short)\n",
        "    data.sort(key=lambda instance: len(instance[0]), reverse=True)\n",
        "    \n",
        "    input_size = len(X)\n",
        "    output_size = len(Y)\n",
        "    max_length = len(data[0][0])\n",
        "    num_instances = len(data)\n",
        "    \n",
        "    xt = torch.zeros(num_instances, max_length, input_size, dtype=torch.float)\n",
        "    yt = torch.zeros(num_instances, dtype=torch.long)\n",
        "    lt = torch.zeros(num_instances, dtype=torch.long)\n",
        "                    \n",
        "    for i, (x, y) in enumerate(data):\n",
        "        for t, v in enumerate(x):\n",
        "            xt[i][t][v] = 1\n",
        "        yt[i] = y\n",
        "        lt[i] = len(x)\n",
        "    return TensorDataset(xt, yt, lt)\n",
        "\n",
        "batch_size = 32\n",
        "data = json.load(open('names.data.json'))\n",
        "train_set = create_dataset(data['data'], data['X'], data['Y'])\n",
        "train_loader = DataLoader(train_set, batch_size=batch_size)\n",
        "input_size = len(data['X'])\n",
        "output_size = len(data['Y'])\n",
        "\n",
        "model = MinibatchSequenceRNN(input_size, 128, output_size)\n",
        "\n",
        "loss_fn = nn.CrossEntropyLoss()\n",
        "optimizer = optim.SGD(model.parameters(), lr=1e-3)\n",
        "\n",
        "liveloss = PlotLosses()\n",
        "for t in range(100):\n",
        "    train_loss = 0.\n",
        "    num_train_correct = 0\n",
        "    \n",
        "    # Training loop for mini-batches\n",
        "    for batch_idx, (x, y, l) in enumerate(train_loader):\n",
        "        this_batch_size = len(l)\n",
        "        \n",
        "        # Make predictions with the current parameters.\n",
        "        hidden = model.initHidden(this_batch_size)\n",
        "        y_pred = model(x, hidden, l)[:this_batch_size]\n",
        "        _, predicted = torch.max(y_pred.data, 1)\n",
        "        num_train_correct += (predicted == y).sum().item()\n",
        "        \n",
        "        # Compute the loss value.\n",
        "        loss = loss_fn(y_pred, y)\n",
        "        train_loss += loss.item()\n",
        "        \n",
        "        # Update the parameters.\n",
        "        optimizer.zero_grad()\n",
        "        loss.backward()\n",
        "        optimizer.step()\n",
        "        \n",
        "    # Visualize accuracy values on the training set.\n",
        "    num_train_correct /= float(len(dataset))\n",
        "    liveloss.update({\n",
        "        'log loss': train_loss,\n",
        "        'accuracy': num_train_correct,\n",
        "    })\n",
        "    liveloss.draw()\n",
        "    \n",
        "print('Accuracy: {:.4f} (train)'.format(num_train_correct))"
      ],
      "execution_count": 22,
      "outputs": [
        {
          "output_type": "display_data",
          "data": {
            "image/png": "[encoded data removed]",
            "text/plain": [
              "<Figure size 864x576 with 2 Axes>"
            ]
          },
          "metadata": {
            "tags": [],
            "needs_background": "light"
          }
        },
        {
          "output_type": "stream",
          "text": [
            "accuracy\n",
            "\taccuracy         \t (min:    0.404, max:    0.666, cur:    0.666)\n",
            "log loss\n",
            "\tlog loss         \t (min:  716.589, max: 1655.089, cur:  716.589)\n",
            "Accuracy: 0.6657 (train)\n"
          ],
          "name": "stdout"
        }
      ]
    },
    {
      "cell_type": "code",
      "metadata": {
        "id": "u2LLDuwhI_ZP",
        "colab_type": "code",
        "colab": {}
      },
      "source": [
        ""
      ],
      "execution_count": 22,
      "outputs": []
    }
  ]
}