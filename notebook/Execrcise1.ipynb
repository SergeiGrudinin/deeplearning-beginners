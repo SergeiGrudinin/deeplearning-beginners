{
  "cells": [
    {
      "cell_type": "markdown",
      "metadata": {
        "colab_type": "text",
        "id": "view-in-github"
      },
      "source": [
        "<a href=\"https://colab.research.google.com/github/SergeiGrudinin/deeplearning-beginners/blob/master/notebook/mnist.ipynb\" target=\"_parent\"><img src=\"https://colab.research.google.com/assets/colab-badge.svg\" alt=\"Open In Colab\"/></a>"
      ]
    },
    {
      "cell_type": "markdown",
      "metadata": {
        "colab_type": "text",
        "id": "sqH2SEO-X9T6"
      },
      "source": [
        "# Neural Networks on MNIST\n",
        "\n",
        "This notebook explains various approaches for implementing neural networks that recognize digits on [MNIST](http://yann.lecun.com/exdb/mnist/) dataset."
      ]
    },
    {
      "cell_type": "markdown",
      "metadata": {},
      "source": [
        "# Python basics\n",
        "Below we will look at out first Python program (Notre premier programme python)"
      ]
    },
    {
      "cell_type": "code",
      "execution_count": 2,
      "metadata": {},
      "outputs": [
        {
          "name": "stdout",
          "output_type": "stream",
          "text": [
            "a*b = 2\n"
          ]
        }
      ],
      "source": [
        "def do_something():\n",
        "    return 0\n",
        "\n",
        "def do_something_else(a,b):\n",
        "    result = a*b\n",
        "    print(\"a*b =\",result)\n",
        "    return\n",
        "\n",
        "if __name__ == '__main__':\n",
        "    do_something()\n",
        "    do_something_else(1,2)"
      ]
    },
    {
      "cell_type": "markdown",
      "metadata": {},
      "source": [
        "<span style=\"color:SteelBlue\"> Exercise 1</span> : modify the code such that the first function receives a list of elements and computes it sum\n",
        "(modifier le code pour que la première fonction reçoive une liste d'éléments et calcule sa somme) :\n",
        "\n",
        "`my_list = [1,2,3,4,5,6]`\n",
        "\n",
        "`do_something(my_list)`\n",
        "\n",
        "Also, print the type of the function input (Imprimez également le type d’entrée de fonction)"
      ]
    },
    {
      "cell_type": "markdown",
      "metadata": {},
      "source": [
        "<span style=\"color:SteelBlue\"> Exercise 2</span> : modify the code such that the second function receives a dictionary of elements and computes the sum of its values\n",
        "(modifier le code de telle sorte que la deuxième fonction reçoive un dictionnaire d'éléments et calcule la somme de ses valeurs) :\n",
        "\n",
        "`my_dict = {\"ke1\":1, \"key2\":2, \"key3\":50, \"key4\":200}`\n",
        "\n",
        "`do_something_else(my_dict)`\n",
        "\n",
        "Also, print the type of the function input (Imprimez également le type d’entrée de fonction)"
      ]
    },
    {
      "cell_type": "markdown",
      "metadata": {
        "colab_type": "text",
        "id": "OaLeoEcDYVO_"
      },
      "source": [
        "## Preparing the MNIST dataset\n",
        "\n",
        "Most deep learning frameworks provide APIs for loading famous datasets like MNIST (e.g., `torchvision.datasets.MNIST` in pytorch). The APIs are handy, but hide the important step for preparing a training data for a deep learning framework; when graduating from an example dataset to the real data, we must convert a training data of our interest into the data structure that is acceptable by a deep learning framework.\n",
        "\n",
        "The code below downloads the original distribution of the MNIST dataset on the Web, converts the dataset into `numpy` arrays, and saves the arrays as the file `mnist.npz` with keyword names."
      ]
    },
    {
      "cell_type": "code",
      "execution_count": 5,
      "metadata": {
        "colab": {},
        "colab_type": "code",
        "id": "OMaOcZMBPuQY"
      },
      "outputs": [],
      "source": [
        "import gzip\n",
        "import sys\n",
        "import struct\n",
        "import urllib.request\n",
        "import numpy as np\n",
        "\n",
        "def read_image(fi):\n",
        "    magic, n, rows, columns = struct.unpack(\">IIII\", fi.read(16))\n",
        "    assert magic == 0x00000803\n",
        "    assert rows == 28\n",
        "    assert columns == 28\n",
        "    rawbuffer = fi.read()\n",
        "    assert len(rawbuffer) == n * rows * columns\n",
        "    # print(len(rawbuffer)) \n",
        "    rawdata = np.frombuffer(rawbuffer, dtype='>u1', count=n*rows*columns)\n",
        "    return rawdata.reshape(n, rows, columns).astype(np.float32) / 255.0\n",
        "\n",
        "def read_label(fi):\n",
        "    magic, n = struct.unpack(\">II\", fi.read(8))\n",
        "    assert magic == 0x00000801\n",
        "    rawbuffer = fi.read()\n",
        "    assert len(rawbuffer) == n\n",
        "    return np.frombuffer(rawbuffer, dtype='>u1', count=n)\n",
        "\n",
        "def openurl_gzip(url):\n",
        "    request = urllib.request.Request(\n",
        "        url,\n",
        "        headers={\n",
        "            \"Accept-Encoding\": \"gzip\",\n",
        "            \"User-Agent\": \"Mozilla/5.0 (X11; U; Linux i686) Gecko/20071127 Firefox/2.0.0.11\", \n",
        "        })\n",
        "    response = urllib.request.urlopen(request)\n",
        "    return gzip.GzipFile(fileobj=response, mode='rb')\n",
        "\n",
        "if __name__ == '__main__':\n",
        "    \n",
        "    np.savez_compressed(\n",
        "        'mnist',\n",
        "        train_x=read_image(openurl_gzip('https://github.com/SergeiGrudinin/mnist/raw/master/train-images-idx3-ubyte.gz')),\n",
        "        train_y=read_label(openurl_gzip('https://github.com/SergeiGrudinin/mnist/raw/master/train-labels-idx1-ubyte.gz')),\n",
        "        test_x=read_image(openurl_gzip('https://github.com/SergeiGrudinin/mnist/raw/master/t10k-images-idx3-ubyte.gz')),\n",
        "        test_y=read_label(openurl_gzip('https://github.com/SergeiGrudinin/mnist/raw/master/t10k-labels-idx1-ubyte.gz'))\n",
        "    )"
      ]
    },
    {
      "cell_type": "markdown",
      "metadata": {
        "colab_type": "text",
        "id": "TStlGwaUaZKC"
      },
      "source": [
        "The file contains four numpy arrays (one tensor and array for each split of training and test sets) with the keywords:\n",
        "\n",
        "+ `train_x`: $60000 \\text{ (images)} \\times 28 \\text{ (y)} \\times 28 \\text{ (x)}$\n",
        "+ `train_y`: $60000 \\text{ (labels)}$\n",
        "+ `test_x`: $10000 \\text{ (images)} \\times 28 \\text{ (y)} \\times 28 \\text{ (x)}$\n",
        "+ `test_y`: $10000 \\text{ (labels)}$\n"
      ]
    },
    {
      "cell_type": "code",
      "execution_count": 6,
      "metadata": {
        "colab": {
          "base_uri": "https://localhost:8080/",
          "height": 90
        },
        "colab_type": "code",
        "id": "2RbqOtJsZH35",
        "outputId": "2c0a0dff-ee73-4e64-8709-d3a012dcd546"
      },
      "outputs": [
        {
          "name": "stdout",
          "output_type": "stream",
          "text": [
            "(60000, 28, 28) float32\n",
            "(60000,) uint8\n",
            "(10000, 28, 28) float32\n",
            "(10000,) uint8\n"
          ]
        }
      ],
      "source": [
        "import numpy as np\n",
        "data = np.load('mnist.npz')\n",
        "\n",
        "\n",
        "print(data['train_x'].shape, data['train_x'].dtype)\n",
        "print(data['train_y'].shape, data['train_y'].dtype)\n",
        "print(data['test_x'].shape, data['test_x'].dtype)\n",
        "print(data['test_y'].shape, data['test_y'].dtype)"
      ]
    },
    {
      "cell_type": "markdown",
      "metadata": {},
      "source": [
        "<span style=\"color:SteelBlue\"> Exercise 3</span> : print values of the 5th train image and its label (imprimer les valeurs de 5ème image 'train' et son étiquette)\n",
        "\n",
        "<span style=\"color:SteelBlue\"> Exercise 4</span> : print center pixels of the 5th train image, pixels from 5 to 15 only (imprimer les pixels centraux de la 5ème image, pixels de 5 à 15 uniquement)"
      ]
    },
    {
      "cell_type": "markdown",
      "metadata": {
        "colab_type": "text",
        "id": "_EgmYVMP_iKU"
      },
      "source": [
        "## Visualize the dataset"
      ]
    },
    {
      "cell_type": "code",
      "execution_count": 8,
      "metadata": {
        "colab": {
          "base_uri": "https://localhost:8080/",
          "height": 958
        },
        "colab_type": "code",
        "id": "Pr_UACmc3Qgc",
        "outputId": "063c1720-0ef3-49ea-aa45-1230daf4b952"
      },
      "outputs": [
        {
          "name": "stdout",
          "output_type": "stream",
          "text": [
            "2\n"
          ]
        },
        {
          "data": {
            "image/png": "[encoded data removed]",
            "text/plain": [
              "<Figure size 432x432 with 2 Axes>"
            ]
          },
          "metadata": {
            "needs_background": "light"
          },
          "output_type": "display_data"
        }
      ],
      "source": [
        "import matplotlib.pyplot as plt\n",
        "import numpy as np\n",
        "import seaborn as sns\n",
        "\n",
        "# Index number of an instance (change this to view another instance).\n",
        "\n",
        "data = np.load('mnist.npz')\n",
        "\n",
        "i = 1\n",
        "\n",
        "image = data['test_x'][i]\n",
        "label = data['test_y'][i]\n",
        "\n",
        "print(label)\n",
        "f, ax = plt.subplots(figsize=(6, 6))\n",
        "sns.heatmap(image, annot=False, fmt='.1f', square=True, cmap=\"GnBu\")\n",
        "plt.show()"
      ]
    },
    {
      "cell_type": "markdown",
      "metadata": {},
      "source": [
        "<span style=\"color:SteelBlue\"> Exercise 5</span> : print images from 50 to 60 (imprimer des images de 50 à 60)\n",
        "\n",
        "<span style=\"color:SteelBlue\"> Exercise 6</span> : prepare a 'hard' test set with 90 degrees rotated images (préparer un ensemble de tests « durs » avec des images pivotées à 90 degrés)\n",
        "\n",
        "<span style=\"color:SteelBlue\"> Exercise 7</span> : prepare a 'small' training set with 10 times fewer images (préparer un « petit » ensemble de \"train\" avec 10 fois moins d’images)\n",
        "\n",
        "\n"
      ]
    },
    {
      "cell_type": "markdown",
      "metadata": {},
      "source": [
        "# Linear algebra basics\n",
        "For the first model we will need two functions, \n",
        "- dot (inner) product between vectors, (produit scalaire entre les vecteurs)\n",
        "- and argmax"
      ]
    },
    {
      "cell_type": "markdown",
      "metadata": {},
      "source": [
        "<span style=\"color:SteelBlue\"> Exercise 8</span> : write a dot product of two Python lists (écrire un produit scalaire de deux listes Python)\n",
        "\n",
        "<span style=\"color:SteelBlue\"> Exercise 9</span> : write a dot product of two numpy vectors (écrire un produit scalaire de deux vecteurs numpy)\n",
        "\n"
      ]
    },
    {
      "cell_type": "code",
      "execution_count": 20,
      "metadata": {},
      "outputs": [
        {
          "name": "stdout",
          "output_type": "stream",
          "text": [
            "dot (a,b) =  0\n",
            "[ 1  2  3  4  5  6  7  8  9 10 12 23 34] <class 'numpy.ndarray'> 13 (13,) [ 1  2  3  4  5  6  7  8  9 10 12 23 34] (13,)\n",
            "dot_np (a_np,b_np) =  0\n"
          ]
        }
      ],
      "source": [
        "import numpy as np\n",
        "\n",
        "def dot_product(a,b):\n",
        "    assert len(a) == len(b)\n",
        "    dot = 0\n",
        "    ... # exercise 8\n",
        "    return dot\n",
        "\n",
        "\n",
        "a = [1,2,3,4,5,6,7,8,9,10,12,23,34]\n",
        "b = [2,3,4,5,6,7,8,9,10,11,10,-1,2]\n",
        "\n",
        "print(\"dot (a,b) = \",dot_product(a,b))\n",
        "\n",
        "#convert lists into numpy vectors\n",
        "a_np = np.array(a)\n",
        "b_np = np.array(b)\n",
        "\n",
        "print(a_np, type(a_np), len(a_np), a_np.shape, a_np.transpose(), a_np.transpose().shape)\n",
        "\n",
        "\n",
        "print(\"dot_np (a_np,b_np) = \",dot_product(a_np,b_np))  # exercise 9"
      ]
    },
    {
      "cell_type": "markdown",
      "metadata": {},
      "source": [
        "Now, let us compute several dot products at teh same time. We will use a matrix representation with numpy for compactness (Calculons maintenant plusieurs produits scalaires en même temps. Nous utiliserons une représentation matricielle avec numpy pour plus de compacité)\n",
        "\n",
        "<span style=\"color:SteelBlue\"> Exercise 10</span> : write a dot(matrix) product of a numpy matrix with a numpy vector (écrire un produit scalaire (matrice) d'une matrice numpy avec un vecteur numpy)\n"
      ]
    },
    {
      "cell_type": "code",
      "execution_count": 31,
      "metadata": {},
      "outputs": [
        {
          "name": "stdout",
          "output_type": "stream",
          "text": [
            "(10, 13) (13, 10)\n",
            "dot (W,a) =  0\n"
          ]
        }
      ],
      "source": [
        "import numpy as np\n",
        "\n",
        "def dot_product(W,a):\n",
        "    assert W.shape[-1] == a.shape[0]\n",
        "    dot = 0\n",
        "    ... # exercise 10\n",
        "    return dot\n",
        "\n",
        "\n",
        "a = [1,2,3,4,5,6,7,8,9,10,12,23,34]\n",
        "\n",
        "#convert lists into numpy vectors\n",
        "a_np = np.array(a)\n",
        "\n",
        "#create a random numpy matrix\n",
        "W = np.random.randn(10, len(a_np))            # (10 x 13)\n",
        "\n",
        "print(W.shape, W.T.shape)\n",
        "\n",
        "\n",
        "print(\"dot (W,a) = \",dot_product(W,a_np))  # exercise 10"
      ]
    },
    {
      "cell_type": "markdown",
      "metadata": {},
      "source": [
        "<span style=\"color:SteelBlue\"> Exercise 11</span> : Finally, we need to write an argmax function, which shows the index of the max elemnt in a vector Enfin, nous devons écrire une fonction argmax, qui montre l'index de l'élément max dans un vecteur)\n"
      ]
    },
    {
      "cell_type": "code",
      "execution_count": 37,
      "metadata": {},
      "outputs": [
        {
          "name": "stdout",
          "output_type": "stream",
          "text": [
            "argmax (a) =  -1\n"
          ]
        }
      ],
      "source": [
        "import numpy as np\n",
        "\n",
        "def argmax(a):\n",
        "    indx = -1\n",
        "    ... # exercise 11\n",
        "    return indx\n",
        "\n",
        "\n",
        "a = [1,2,3,4,5,6,7,80,9,10,12,23,34]\n",
        "\n",
        "#convert lists into numpy vectors\n",
        "a_np = np.array(a)\n",
        "\n",
        "print(\"argmax (a) = \",argmax(a_np))  # exercise 11"
      ]
    },
    {
      "cell_type": "markdown",
      "metadata": {
        "colab_type": "text",
        "id": "YCr4T9-8cTFH"
      },
      "source": [
        "## Perceptron algorithm for single-layer neural network\n",
        "Now we are ready to train our first model!!! However, we also need to convert images to vectors (Nous sommes maintenant prêts à former notre premier modèle !!! Cependant, nous devons également convertir les images en vecteurs)\n",
        "\n",
        "<span style=\"color:SteelBlue\"> Exercise 12</span> : An example of image conversion (Un exemple de conversion d'image)\n"
      ]
    },
    {
      "cell_type": "code",
      "execution_count": 48,
      "metadata": {},
      "outputs": [
        {
          "data": {
            "image/png": "[encoded data removed]",
            "text/plain": [
              "<Figure size 432x432 with 2 Axes>"
            ]
          },
          "metadata": {
            "needs_background": "light"
          },
          "output_type": "display_data"
        },
        {
          "name": "stdout",
          "output_type": "stream",
          "text": [
            "(5, 6)\n"
          ]
        },
        {
          "data": {
            "image/png": "[encoded data removed]",
            "text/plain": [
              "<Figure size 432x288 with 1 Axes>"
            ]
          },
          "metadata": {
            "needs_background": "light"
          },
          "output_type": "display_data"
        }
      ],
      "source": [
        "import matplotlib.pyplot as plt\n",
        "import numpy as np\n",
        "import seaborn as sns\n",
        "\n",
        "def flatten(W):\n",
        "    v = ... # Exercise 12, please convert a 5 x 5 matrix to a 25 vector\n",
        "    return v\n",
        "\n",
        "#create a random numpy matrix\n",
        "W = np.random.randn(5, 5)            # (5 x 5)\n",
        "\n",
        "f, ax = plt.subplots(figsize=(6, 6))\n",
        "sns.heatmap(W, annot=False, fmt='.1f', square=True, cmap=\"GnBu\")\n",
        "plt.show()\n",
        "\n",
        "v = flatten(W)\n",
        "\n",
        "# v = np.c_[W, np.ones(5)]\n",
        "print(v.shape)\n",
        "\n",
        "plt.plot(v)\n",
        "plt.show()"
      ]
    },
    {
      "cell_type": "markdown",
      "metadata": {},
      "source": [
        "<span style=\"color:SteelBlue\"> Exercise finale</span> : Our first model"
      ]
    },
    {
      "cell_type": "code",
      "execution_count": null,
      "metadata": {},
      "outputs": [],
      "source": [
        "import numpy as np\n",
        "\n",
        "def flatten(X):\n",
        "    X_flat = ...                                 # Flatten: (N x 28 x 28) -> (N x 784)\n",
        "    # output = np.c_[X_flat, np.ones(len(X))]       # Append 1: (N x 784) -> (N x 785)\n",
        "    return output        \n",
        "\n",
        "data = np.load('mnist.npz')\n",
        "Xtrain = flatten(data['train_x'])             # (60000 x 785)\n",
        "Ytrain = data['train_y']                      # (60000)\n",
        "Xtest = flatten(data['test_x'])               # (10000 x 785)\n",
        "Ytest = data['test_y']                        # (10000)\n",
        "\n",
        "\n",
        "W = np.random.randn(10, 28*28)            # (10 x 784), initial weights\n",
        "\n",
        "eta = 0.001\n",
        "for t in range(100):\n",
        "    \n",
        "    # Structured perceptron for updating weights.\n",
        "    num_correct_train = 0\n",
        "    for x, y in zip(Xtrain, Ytrain):\n",
        "        dot = dot_product(W,x)                  # substitute your dot product function / remplacez par votre fonction de produit scalaire\n",
        "        y_pred = argmax(dot)                    # substitute your argmax / remplacez par votre argmax\n",
        "        \n",
        "        if y_pred != y:\n",
        "            W[y] += ...                         # we need to increase the dot product... How can we do this? / nous devons augmenter le produit scalaire... Comment pouvons-nous faire cela ?\n",
        "            W[y_pred] -= ...                    # we need to decreases the dot product... How can we do this? / nous devons diminuer le produit scalaire... Comment pouvons-nous faire cela ?\n",
        "        else:\n",
        "            num_correct_train += 1\n",
        "\n",
        "    # Evaluate and store the accuracy on the test set.\n",
        "    num_correct_test = 0\n",
        "    for x, y in zip(Xtest, Ytest):\n",
        "        dot = dot_product(W,x)   \n",
        "        y_pred = argmax(dot)\n",
        "        if y_pred == y:\n",
        "            num_correct_test += 1\n",
        "    \n",
        "    print('#{}: train_accuracy={:.4f}, test_accuracy={:.4f}'.format(\n",
        "        t,\n",
        "        float(num_correct_train) / len(Ytrain),\n",
        "        float(num_correct_test) / len(Ytest)\n",
        "    ))"
      ]
    },
    {
      "cell_type": "markdown",
      "metadata": {},
      "source": [
        "<span style=\"color:SteelBlue\"> Questions</span> : \n",
        "- Can you demonstrate that the dot product of a vector with itself is always positive (non-negative)? / Pouvez-vous démontrer que le produit scalaire d'un vecteur avec lui-même est toujours positif (non négatif)\n",
        "- We have only coded a model y = wx. Can you modify the code for a model y = wx + b? / Nous avons seulement codé un modèle y = wx. Pouvez-vous modifier le code d'un modèle y = wx + b ?\n",
        "- How does the model perform on 'hard' test examples? / Comment le modèle fonctionne-t-il sur des exemples de tests « durs » ?"
      ]
    }
  ],
  "metadata": {
    "accelerator": "GPU",
    "colab": {
      "collapsed_sections": [],
      "include_colab_link": true,
      "name": "mnist.ipynb",
      "provenance": []
    },
    "kernelspec": {
      "display_name": "Python 3",
      "name": "python3"
    },
    "language_info": {
      "codemirror_mode": {
        "name": "ipython",
        "version": 3
      },
      "file_extension": ".py",
      "mimetype": "text/x-python",
      "name": "python",
      "nbconvert_exporter": "python",
      "pygments_lexer": "ipython3",
      "version": "3.9.15"
    }
  },
  "nbformat": 4,
  "nbformat_minor": 0
}
