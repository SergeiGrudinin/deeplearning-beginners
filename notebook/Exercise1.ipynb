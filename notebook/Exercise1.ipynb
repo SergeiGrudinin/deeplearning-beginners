{
  "cells": [
    {
      "cell_type": "markdown",
      "metadata": {
        "colab_type": "text",
        "id": "view-in-github"
      },
      "source": [
        "<a href=\"https://colab.research.google.com/github/SergeiGrudinin/deeplearning-beginners/blob/master/notebook/Execrcise1.ipynb\" target=\"_parent\"><img src=\"https://colab.research.google.com/assets/colab-badge.svg\" alt=\"Open In Colab\"/></a>"
      ]
    },
    {
      "cell_type": "markdown",
      "metadata": {
        "colab_type": "text",
        "id": "sqH2SEO-X9T6"
      },
      "source": [
        "# Neural Networks on MNIST\n",
        "\n",
        "This notebook explains various approaches for implementing neural networks that recognize digits on [MNIST](http://yann.lecun.com/exdb/mnist/) dataset. Originally copied from [ART.T458: Advanced Machine Learning](http://www.ocw.titech.ac.jp/index.php?module=General&action=T0300&GakubuCD=4&GakkaCD=342305&KeiCD=23&course=5&KougiCD=202004845&Nendo=2020&lang=EN&vid=03) course at [Tokyo Institute of Technology](https://www.titech.ac.jp/english/)."
      ]
    },
    {
      "cell_type": "markdown",
      "metadata": {},
      "source": [
        "# Python basics\n",
        "Below we will look at out first Python program (Notre premier programme python)"
      ]
    },
    {
      "cell_type": "code",
      "execution_count": 5,
      "metadata": {},
      "outputs": [
        {
          "name": "stdout",
          "output_type": "stream",
          "text": [
            "dictionary sum =  0\n"
          ]
        }
      ],
      "source": [
        "def do_something():\n",
        "    return 0\n",
        "\n",
        "def do_something_else(a):\n",
        "    result = 0\n",
        "    for i in a:\n",
        "        # print(i,a[i])\n",
        "        ...\n",
        "    return result\n",
        "\n",
        "if __name__ == '__main__':\n",
        "    # do_something()\n",
        "    my_dict = {\"ke1\":1, \"key2\":2, \"key3\":50, \"key4\":200}\n",
        "    sum = do_something_else(my_dict)\n",
        "    print(\"dictionary sum = \", sum)"
      ]
    },
    {
      "cell_type": "markdown",
      "metadata": {},
      "source": [
        "<span style=\"color:SteelBlue\"> Exercise 1</span> : modify the code such that the first function receives a list of elements and computes it sum\n",
        "(modifier le code pour que la première fonction reçoive une liste d'éléments et calcule sa somme) :\n",
        "\n",
        "`my_list = [1,2,3,4,5,6]`\n",
        "\n",
        "`do_something(my_list)`\n",
        "\n",
        "Also, print the type of the function input (Imprimez également le type d’entrée de fonction)"
      ]
    },
    {
      "cell_type": "markdown",
      "metadata": {},
      "source": [
        "<span style=\"color:SteelBlue\"> Exercise 2</span> : modify the code such that the second function receives a dictionary of elements and computes the sum of its values\n",
        "(modifier le code de telle sorte que la deuxième fonction reçoive un dictionnaire d'éléments et calcule la somme de ses valeurs) :\n",
        "\n",
        "`my_dict = {\"ke1\":1, \"key2\":2, \"key3\":50, \"key4\":200}`\n",
        "\n",
        "`do_something_else(my_dict)`\n",
        "\n",
        "Also, print the type of the function input (Imprimez également le type d’entrée de fonction)"
      ]
    },
    {
      "cell_type": "markdown",
      "metadata": {
        "colab_type": "text",
        "id": "OaLeoEcDYVO_"
      },
      "source": [
        "## Preparing the MNIST dataset\n",
        "\n",
        "Most deep learning frameworks provide APIs for loading famous datasets like MNIST (e.g., `torchvision.datasets.MNIST` in pytorch). The APIs are handy, but hide the important step for preparing a training data for a deep learning framework; when graduating from an example dataset to the real data, we must convert a training data of our interest into the data structure that is acceptable by a deep learning framework.\n",
        "\n",
        "The code below downloads the original distribution of the MNIST dataset on the Web, converts the dataset into `numpy` arrays, and saves the arrays as the file `mnist.npz` with keyword names."
      ]
    },
    {
      "cell_type": "code",
      "execution_count": 6,
      "metadata": {
        "colab": {},
        "colab_type": "code",
        "id": "OMaOcZMBPuQY"
      },
      "outputs": [],
      "source": [
        "import gzip\n",
        "import sys\n",
        "import struct\n",
        "import urllib.request\n",
        "import numpy as np\n",
        "\n",
        "def read_image(fi):\n",
        "    magic, n, rows, columns = struct.unpack(\">IIII\", fi.read(16))\n",
        "    assert magic == 0x00000803\n",
        "    assert rows == 28\n",
        "    assert columns == 28\n",
        "    rawbuffer = fi.read()\n",
        "    assert len(rawbuffer) == n * rows * columns\n",
        "    # print(len(rawbuffer)) \n",
        "    rawdata = np.frombuffer(rawbuffer, dtype='>u1', count=n*rows*columns)\n",
        "    return rawdata.reshape(n, rows, columns).astype(np.float32) / 255.0\n",
        "\n",
        "def read_label(fi):\n",
        "    magic, n = struct.unpack(\">II\", fi.read(8))\n",
        "    assert magic == 0x00000801\n",
        "    rawbuffer = fi.read()\n",
        "    assert len(rawbuffer) == n\n",
        "    return np.frombuffer(rawbuffer, dtype='>u1', count=n)\n",
        "\n",
        "def openurl_gzip(url):\n",
        "    request = urllib.request.Request(\n",
        "        url,\n",
        "        headers={\n",
        "            \"Accept-Encoding\": \"gzip\",\n",
        "            \"User-Agent\": \"Mozilla/5.0 (X11; U; Linux i686) Gecko/20071127 Firefox/2.0.0.11\", \n",
        "        })\n",
        "    response = urllib.request.urlopen(request)\n",
        "    return gzip.GzipFile(fileobj=response, mode='rb')\n",
        "\n",
        "if __name__ == '__main__':\n",
        "    \n",
        "    np.savez_compressed(\n",
        "        'mnist',\n",
        "        train_x=read_image(openurl_gzip('https://github.com/SergeiGrudinin/mnist/raw/master/train-images-idx3-ubyte.gz')),\n",
        "        train_y=read_label(openurl_gzip('https://github.com/SergeiGrudinin/mnist/raw/master/train-labels-idx1-ubyte.gz')),\n",
        "        test_x=read_image(openurl_gzip('https://github.com/SergeiGrudinin/mnist/raw/master/t10k-images-idx3-ubyte.gz')),\n",
        "        test_y=read_label(openurl_gzip('https://github.com/SergeiGrudinin/mnist/raw/master/t10k-labels-idx1-ubyte.gz'))\n",
        "    )"
      ]
    },
    {
      "cell_type": "markdown",
      "metadata": {
        "colab_type": "text",
        "id": "TStlGwaUaZKC"
      },
      "source": [
        "The file contains four numpy arrays (one tensor and array for each split of training and test sets) with the keywords:\n",
        "\n",
        "+ `train_x`: $60000 \\text{ (images)} \\times 28 \\text{ (y)} \\times 28 \\text{ (x)}$\n",
        "+ `train_y`: $60000 \\text{ (labels)}$\n",
        "+ `test_x`: $10000 \\text{ (images)} \\times 28 \\text{ (y)} \\times 28 \\text{ (x)}$\n",
        "+ `test_y`: $10000 \\text{ (labels)}$\n"
      ]
    },
    {
      "cell_type": "code",
      "execution_count": 15,
      "metadata": {
        "colab": {
          "base_uri": "https://localhost:8080/",
          "height": 90
        },
        "colab_type": "code",
        "id": "2RbqOtJsZH35",
        "outputId": "2c0a0dff-ee73-4e64-8709-d3a012dcd546"
      },
      "outputs": [
        {
          "name": "stdout",
          "output_type": "stream",
          "text": [
            "[[0.         0.         0.         0.         0.         0.\n",
            "  0.         0.         0.         0.70980394 0.9882353  0.9882353\n",
            "  0.8627451  0.654902   0.11764706 0.         0.         0.3019608\n",
            "  0.9882353  0.9882353  0.23529412 0.         0.         0.\n",
            "  0.         0.         0.         0.        ]\n",
            " [0.         0.         0.         0.         0.         0.\n",
            "  0.         0.         0.         0.10196079 0.5019608  0.22745098\n",
            "  0.08627451 0.         0.         0.         0.         0.39215687\n",
            "  0.9882353  0.9882353  0.23529412 0.         0.         0.\n",
            "  0.         0.         0.         0.        ]\n",
            " [0.         0.         0.         0.         0.         0.\n",
            "  0.         0.         0.         0.         0.         0.\n",
            "  0.         0.         0.         0.         0.         0.6156863\n",
            "  0.9882353  0.9882353  0.23529412 0.         0.         0.\n",
            "  0.         0.         0.         0.        ]\n",
            " [0.         0.         0.         0.         0.         0.\n",
            "  0.         0.         0.         0.         0.         0.\n",
            "  0.         0.43137255 0.4745098  0.47843137 0.4745098  0.7921569\n",
            "  0.9882353  0.7607843  0.01176471 0.         0.         0.\n",
            "  0.         0.         0.         0.        ]\n",
            " [0.         0.         0.         0.         0.         0.\n",
            "  0.         0.         0.         0.         0.03921569 0.20784314\n",
            "  0.7019608  0.99215686 0.99215686 1.         0.99215686 0.99215686\n",
            "  0.89411765 0.13725491 0.         0.         0.         0.\n",
            "  0.         0.         0.         0.        ]] 2\n"
          ]
        }
      ],
      "source": [
        "import numpy as np\n",
        "data = np.load('mnist.npz')\n",
        "\n",
        "\n",
        "# print(data['train_x'].shape, data['train_x'].dtype)\n",
        "# print(data['train_y'].shape, data['train_y'].dtype)\n",
        "# print(data['test_x'].shape, data['test_x'].dtype)\n",
        "# print(data['test_y'].shape, data['test_y'].dtype)\n",
        "\n",
        "print(data[\"train_x\"][5][5:15][5:15], data[\"train_y\"][5])"
      ]
    },
    {
      "cell_type": "markdown",
      "metadata": {},
      "source": [
        "<span style=\"color:SteelBlue\"> Exercise 3</span> : print values of the 5th train image and its label (imprimer les valeurs de 5ème image 'train' et son étiquette)\n",
        "\n",
        "<span style=\"color:SteelBlue\"> Exercise 4</span> : print center pixels of the 5th train image, pixels from 5 to 15 only (imprimer les pixels centraux de la 5ème image, pixels de 5 à 15 uniquement)"
      ]
    },
    {
      "cell_type": "markdown",
      "metadata": {
        "colab_type": "text",
        "id": "_EgmYVMP_iKU"
      },
      "source": [
        "## Visualize the dataset"
      ]
    },
    {
      "cell_type": "code",
      "execution_count": 24,
      "metadata": {
        "colab": {
          "base_uri": "https://localhost:8080/",
          "height": 958
        },
        "colab_type": "code",
        "id": "Pr_UACmc3Qgc",
        "outputId": "063c1720-0ef3-49ea-aa45-1230daf4b952"
      },
      "outputs": [
        {
          "name": "stdout",
          "output_type": "stream",
          "text": [
            "2\n"
          ]
        },
        {
          "data": {
            "image/png": "[encoded data removed]",
            "text/plain": [
              "<Figure size 360x360 with 2 Axes>"
            ]
          },
          "metadata": {
            "needs_background": "light"
          },
          "output_type": "display_data"
        }
      ],
      "source": [
        "import matplotlib.pyplot as plt\n",
        "import numpy as np\n",
        "import seaborn as sns\n",
        "\n",
        "# Index number of an instance (change this to view another instance).\n",
        "\n",
        "data = np.load('mnist.npz')\n",
        "\n",
        "i = 1\n",
        "\n",
        "image = data['test_x'][i]\n",
        "label = data['test_y'][i]\n",
        "\n",
        "all_images = data['test_x']\n",
        "all_images_rotated = np.rot90(all_images, 2, axes=(1,2))\n",
        "\n",
        "image = all_images_rotated[1]\n",
        "print(label)\n",
        "f, ax = plt.subplots(figsize=(5, 5))\n",
        "sns.heatmap(image, annot=False, fmt='.1f', square=True, cmap=\"YlGn\")\n",
        "plt.show()\n",
        "\n",
        "small_training_set = data['train_x'][0:]"
      ]
    },
    {
      "cell_type": "markdown",
      "metadata": {},
      "source": [
        "<span style=\"color:SteelBlue\"> Exercise 5</span> : print images from 50 to 60 (imprimer des images de 50 à 60)\n",
        "\n",
        "<span style=\"color:SteelBlue\"> Exercise 6</span> : prepare a 'hard' test set with 90 degrees rotated images (préparer un ensemble de tests « durs » avec des images pivotées à 90 degrés)\n",
        "\n",
        "<span style=\"color:SteelBlue\"> Exercise 7</span> : prepare a 'small' training set with 10 times fewer images (préparer un « petit » ensemble de \"train\" avec 10 fois moins d’images)\n",
        "\n",
        "\n"
      ]
    },
    {
      "cell_type": "code",
      "execution_count": 58,
      "metadata": {},
      "outputs": [
        {
          "name": "stdout",
          "output_type": "stream",
          "text": [
            "6000\n",
            "(6000, 28, 28)\n",
            "(6000,)\n"
          ]
        }
      ],
      "source": [
        "s = int(data[\"train_x\"].shape[0]/10)\n",
        "print(s)\n",
        "train_small = data[\"train_x\"][0:s]\n",
        "\n",
        "\n",
        "print(train_small.shape)\n",
        "label_small = data[\"train_y\"][0:s]\n",
        "print(label_small.shape)\n"
      ]
    },
    {
      "cell_type": "markdown",
      "metadata": {},
      "source": [
        "# Linear algebra basics\n",
        "For the first model we will need two functions, \n",
        "- dot (inner) product between vectors, (produit scalaire entre les vecteurs)\n",
        "- and argmax"
      ]
    },
    {
      "cell_type": "markdown",
      "metadata": {},
      "source": [
        "<span style=\"color:SteelBlue\"> Exercise 8</span> : write a dot product of two Python lists (écrire un produit scalaire de deux listes Python)\n",
        "\n",
        "<span style=\"color:SteelBlue\"> Exercise 9</span> : write a dot product of two numpy vectors (écrire un produit scalaire de deux vecteurs numpy)\n",
        "\n"
      ]
    },
    {
      "cell_type": "code",
      "execution_count": 20,
      "metadata": {},
      "outputs": [
        {
          "name": "stdout",
          "output_type": "stream",
          "text": [
            "dot (a,b) =  0\n",
            "[ 1  2  3  4  5  6  7  8  9 10 12 23 34] <class 'numpy.ndarray'> 13 (13,) [ 1  2  3  4  5  6  7  8  9 10 12 23 34] (13,)\n",
            "dot_np (a_np,b_np) =  0\n"
          ]
        }
      ],
      "source": [
        "import numpy as np\n",
        "\n",
        "def dot_product(a,b):\n",
        "    assert len(a) == len(b)\n",
        "    dot = 0\n",
        "    ... # exercise 8\n",
        "    return dot\n",
        "\n",
        "\n",
        "a = [1,2,3,4,5,6,7,8,9,10,12,23,34]\n",
        "b = [2,3,4,5,6,7,8,9,10,11,10,-1,2]\n",
        "\n",
        "print(\"dot (a,b) = \",dot_product(a,b))\n",
        "\n",
        "#convert lists into numpy vectors\n",
        "a_np = np.array(a)\n",
        "b_np = np.array(b)\n",
        "\n",
        "print(a_np, type(a_np), len(a_np), a_np.shape, a_np.transpose(), a_np.transpose().shape)\n",
        "\n",
        "\n",
        "print(\"dot_np (a_np,b_np) = \",dot_product(a_np,b_np))  # exercise 9"
      ]
    },
    {
      "cell_type": "markdown",
      "metadata": {},
      "source": [
        "Now, let us compute several dot products at teh same time. We will use a matrix representation with numpy for compactness (Calculons maintenant plusieurs produits scalaires en même temps. Nous utiliserons une représentation matricielle avec numpy pour plus de compacité)\n",
        "\n",
        "<span style=\"color:SteelBlue\"> Exercise 10</span> : write a dot(matrix) product of a numpy matrix with a numpy vector (écrire un produit scalaire (matrice) d'une matrice numpy avec un vecteur numpy)\n"
      ]
    },
    {
      "cell_type": "code",
      "execution_count": 49,
      "metadata": {},
      "outputs": [
        {
          "name": "stdout",
          "output_type": "stream",
          "text": [
            "(10, 13)\n",
            "(13,)\n",
            "[32.03466893  8.705829   52.52466316 69.67572656 11.767472   16.22862148\n",
            " 21.97782136 14.25770368 48.87541956 60.86812083]\n",
            "dot (W,a) =  [  63.98050751  -26.65348638   28.93043869  -23.32981747  -37.27954748\n",
            "  -27.85063759 -104.4229231   -56.69766429   -5.57777079   13.29413017]\n",
            "length of the output = 10\n"
          ]
        }
      ],
      "source": [
        "import numpy as np\n",
        "\n",
        "def dot_product(W,a):\n",
        "    print(W.shape)\n",
        "    print(a.shape)\n",
        "\n",
        "    assert W.shape[-1] == a.shape[0]\n",
        "    dot = []\n",
        "\n",
        "    shape0 = W.shape[0]\n",
        "    shape1 = W.shape[1]\n",
        "    dot_np = np.empty(shape0)\n",
        "\n",
        "    print(dot_np)\n",
        "\n",
        "    for i in range(shape0):\n",
        "        # dot_i = 0\n",
        "        dot_np[i] = 0\n",
        "        for j in range(shape1):\n",
        "            # dot_i = dot_i + W[i][j]*a[j]\n",
        "            dot_np[i] += W[i][j]*a[j]\n",
        "        # dot.append(dot_i)\n",
        "    return dot_np\n",
        "\n",
        "\n",
        "a = [1,2,3,4,5,6,7,8,9,10,12,23,34]\n",
        "\n",
        "#convert lists into numpy vectors\n",
        "a_np = np.array(a)\n",
        "\n",
        "#create a random numpy matrix\n",
        "W = np.random.randn(10, len(a_np))            # (10 x 13)\n",
        "\n",
        "# print(W)\n",
        "\n",
        "dot = dot_product(W,a_np) # python list \n",
        "print(\"dot (W,a) = \", dot)  # exercise 10\n",
        "print(\"length of the output =\",len(dot))\n"
      ]
    },
    {
      "cell_type": "markdown",
      "metadata": {},
      "source": [
        "<span style=\"color:SteelBlue\"> Exercise 11</span> : Finally, we need to write an argmax function, which shows the index of the max elemnt in a vector Enfin, nous devons écrire une fonction argmax, qui montre l'index de l'élément max dans un vecteur)\n"
      ]
    },
    {
      "cell_type": "code",
      "execution_count": 54,
      "metadata": {},
      "outputs": [
        {
          "name": "stdout",
          "output_type": "stream",
          "text": [
            "argmax (a) =  0\n"
          ]
        }
      ],
      "source": [
        "import numpy as np\n",
        "\n",
        "def argmax(a):\n",
        "    indx = 0\n",
        "    max_elem = a[0]\n",
        "    for i in range(len(a)):\n",
        "        if(a[i]>max_elem):\n",
        "            max_elem = a[i]\n",
        "            indx = i\n",
        "    return indx\n",
        "\n",
        "\n",
        "a = [10000,2,3,4,5,6,7,80,9,10,12,23,34]\n",
        "\n",
        "#convert lists into numpy vectors\n",
        "a_np = np.array(a)\n",
        "\n",
        "print(\"argmax (a) = \",argmax(a_np))  # exercise 11"
      ]
    },
    {
      "cell_type": "markdown",
      "metadata": {
        "colab_type": "text",
        "id": "YCr4T9-8cTFH"
      },
      "source": [
        "## Perceptron algorithm for single-layer neural network\n",
        "Now we are ready to train our first model!!! However, we also need to convert images to vectors (Nous sommes maintenant prêts à former notre premier modèle !!! Cependant, nous devons également convertir les images en vecteurs)\n",
        "\n",
        "<span style=\"color:SteelBlue\"> Exercise 12</span> : An example of image conversion (Un exemple de conversion d'image)\n"
      ]
    },
    {
      "cell_type": "code",
      "execution_count": 60,
      "metadata": {},
      "outputs": [
        {
          "data": {
            "image/png": "[encoded data removed]",
            "text/plain": [
              "<Figure size 432x432 with 2 Axes>"
            ]
          },
          "metadata": {
            "needs_background": "light"
          },
          "output_type": "display_data"
        },
        {
          "name": "stdout",
          "output_type": "stream",
          "text": [
            "(25,)\n",
            "[-0.40393116  0.41866948 -1.24894686 -1.09414291  0.42551724  0.83743202\n",
            " -0.33832266  1.28881752 -0.5816188   0.25269169  0.16045819  0.74468353\n",
            " -0.65641941 -1.16907094  0.76598058 -0.05580788 -0.96643905 -1.84051012\n",
            "  0.65087261 -0.59054931  0.61009529  1.71075704 -1.12494366 -0.25223065\n",
            "  0.91998543]\n"
          ]
        },
        {
          "data": {
            "image/png": "[encoded data removed]",
            "text/plain": [
              "<Figure size 432x288 with 1 Axes>"
            ]
          },
          "metadata": {
            "needs_background": "light"
          },
          "output_type": "display_data"
        }
      ],
      "source": [
        "import matplotlib.pyplot as plt\n",
        "import numpy as np\n",
        "import seaborn as sns\n",
        "\n",
        "def flatten(W):\n",
        "    v = np.empty(W.shape[0]*W.shape[1])\n",
        "    indx = -1\n",
        "    for i in range(W.shape[0]):\n",
        "        for j in range (W.shape[1]):\n",
        "            indx = indx + 1\n",
        "            # index = i*W.shape[0] + j\n",
        "            v[indx] = W[i][j]\n",
        "    # v = ... # Exercise 12, please convert a 5 x 5 matrix to a 25 vector\n",
        "    return v\n",
        "\n",
        "#create a random numpy matrix\n",
        "W = np.random.randn(5, 5)            # (5 x 5)\n",
        "\n",
        "f, ax = plt.subplots(figsize=(6, 6))\n",
        "sns.heatmap(W, annot=False, fmt='.1f', square=True, cmap=\"GnBu\")\n",
        "plt.show()\n",
        "\n",
        "v = flatten(W)\n",
        "\n",
        "# v = np.c_[W, np.ones(5)]\n",
        "print(v.shape)\n",
        "print(v)\n",
        "\n",
        "plt.plot(v)\n",
        "plt.show()"
      ]
    },
    {
      "cell_type": "markdown",
      "metadata": {},
      "source": [
        "<span style=\"color:SteelBlue\"> Exercise finale</span> : Our first model"
      ]
    },
    {
      "cell_type": "code",
      "execution_count": 66,
      "metadata": {},
      "outputs": [],
      "source": [
        "import numpy as np\n",
        "\n",
        "# def flatten(X):\n",
        "#     X_flat = ...                                 # Flatten: (N x 28 x 28) -> (N x 784)\n",
        "#     # output = np.c_[X_flat, np.ones(len(X))]       # Append 1: (N x 784) -> (N x 785)\n",
        "#     return output        \n",
        "\n",
        "# data = np.load('mnist.npz')\n",
        "# Xtrain = flatten(data['train_x'])             # (60000 x 785)\n",
        "# Ytrain = data['train_y']                      # (60000)\n",
        "\n",
        "def flatten(W): #applicable to tensors\n",
        "    v = np.empty(shape=(W.shape[0],W.shape[1]*W.shape[2])) # \n",
        "    for k in range (W.shape[0]):\n",
        "        indx = -1\n",
        "        for i in range(W.shape[1]):\n",
        "            for j in range (W.shape[2]):\n",
        "                indx = indx + 1\n",
        "                v[k][indx] = W[k][i][j]\n",
        "    # v = ... # Exercise 12, please convert a 5 x 5 matrix to a 25 vector\n",
        "    return v\n",
        "# train_small (6000, 28, 28)\n",
        "\n",
        "Xtrain = flatten(train_small)                   # (6000 x 784)\n",
        "Ytrain = label_small                   # (6000)\n",
        "\n",
        "Xtest = flatten(data['test_x'])               # (10000 x 785)\n",
        "Ytest = data['test_y']                        # (10000)\n"
      ]
    },
    {
      "cell_type": "code",
      "execution_count": null,
      "metadata": {},
      "outputs": [
        {
          "name": "stdout",
          "output_type": "stream",
          "text": [
            "(10, 784)\n",
            "(784,)\n",
            "[15.18670973  4.2052966  12.89770358  3.44932494  4.24779292 15.13798528\n",
            " 14.66192798  0.965022    8.24359094  6.02538755]\n"
          ]
        }
      ],
      "source": [
        "def dot_product(W,a):\n",
        "    # print(W.shape)\n",
        "    # print(a.shape)\n",
        "    assert W.shape[-1] == a.shape[0]\n",
        "    # dot = []\n",
        "\n",
        "    shape0 = W.shape[0]\n",
        "    shape1 = W.shape[1]\n",
        "    dot_np = np.empty(shape0)\n",
        "\n",
        "    # print(dot_np)\n",
        "\n",
        "    for i in range(shape0):\n",
        "        # dot_i = 0\n",
        "        dot_np[i] = 0\n",
        "        for j in range(shape1):\n",
        "            # dot_i = dot_i + W[i][j]*a[j]\n",
        "            dot_np[i] += W[i][j]*a[j]\n",
        "        # dot.append(dot_i)\n",
        "    return dot_np\n",
        "\n",
        "W = np.random.randn(10, 28*28)            # (10 x 784), initial weights\n",
        "\n",
        "eta = 0.001\n",
        "for t in range(100):\n",
        "    \n",
        "    # Structured perceptron for updating weights.\n",
        "    num_correct_train = 0\n",
        "    for x, y in zip(Xtrain, Ytrain):\n",
        "        dot = dot_product(W,x)                  # substitute your dot product function / remplacez par votre fonction de produit scalaire\n",
        "        y_pred = argmax(dot)                    # substitute your argmax / remplacez par votre argmax\n",
        "        \n",
        "        if y_pred != y:\n",
        "            continue\n",
        "            # W[y] += ...                         # we need to increase the dot product... How can we do this? / \n",
        "                                                # nous devons augmenter le produit scalaire... Comment pouvons-nous faire cela ?\n",
        "            # W[y_pred] -= ...                    # we need to decreases the dot product... How can we do this? / \n",
        "                                                # nous devons diminuer le produit scalaire... Comment pouvons-nous faire cela ?\n",
        "        else:\n",
        "            num_correct_train += 1\n",
        "\n",
        "    # Evaluate and store the accuracy on the test set.\n",
        "    num_correct_test = 0\n",
        "    for x, y in zip(Xtest, Ytest):\n",
        "        dot = dot_product(W,x)   \n",
        "        y_pred = argmax(dot)\n",
        "        if y_pred == y:\n",
        "            num_correct_test += 1\n",
        "    \n",
        "    print('#{}: train_accuracy={:.4f}, test_accuracy={:.4f}'.format(\n",
        "        t,\n",
        "        float(num_correct_train) / len(Ytrain),\n",
        "        float(num_correct_test) / len(Ytest)\n",
        "    ))"
      ]
    },
    {
      "cell_type": "markdown",
      "metadata": {},
      "source": [
        "<span style=\"color:SteelBlue\"> Questions</span> : \n",
        "- Can you demonstrate that the dot product of a vector with itself is always positive (non-negative)? / Pouvez-vous démontrer que le produit scalaire d'un vecteur avec lui-même est toujours positif (non négatif)\n",
        "- We have only coded a model y = wx. Can you modify the code for a model y = wx + b? / Nous avons seulement codé un modèle y = wx. Pouvez-vous modifier le code d'un modèle y = wx + b ?\n",
        "- How does the model perform on 'hard' test examples? / Comment le modèle fonctionne-t-il sur des exemples de tests « durs » ?"
      ]
    }
  ],
  "metadata": {
    "accelerator": "GPU",
    "colab": {
      "collapsed_sections": [],
      "include_colab_link": true,
      "name": "mnist.ipynb",
      "provenance": []
    },
    "kernelspec": {
      "display_name": "Python 3",
      "name": "python3"
    },
    "language_info": {
      "codemirror_mode": {
        "name": "ipython",
        "version": 3
      },
      "file_extension": ".py",
      "mimetype": "text/x-python",
      "name": "python",
      "nbconvert_exporter": "python",
      "pygments_lexer": "ipython3",
      "version": "3.9.15"
    }
  },
  "nbformat": 4,
  "nbformat_minor": 0
}
